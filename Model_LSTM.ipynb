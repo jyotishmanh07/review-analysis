{
  "nbformat": 4,
  "nbformat_minor": 0,
  "metadata": {
    "kernelspec": {
      "display_name": "Python 3",
      "language": "python",
      "name": "python3"
    },
    "language_info": {
      "codemirror_mode": {
        "name": "ipython",
        "version": 3
      },
      "file_extension": ".py",
      "mimetype": "text/x-python",
      "name": "python",
      "nbconvert_exporter": "python",
      "pygments_lexer": "ipython3",
      "version": "3.8.3"
    },
    "colab": {
      "name": "Model LSTM.ipynb",
      "provenance": [],
      "collapsed_sections": []
    }
  },
  "cells": [
    {
      "cell_type": "code",
      "metadata": {
        "scrolled": true,
        "id": "d9UBqXRNlfFW"
      },
      "source": [
        "import numpy as np \n",
        "import pandas as pd \n",
        "\n",
        "from sklearn.feature_extraction.text import CountVectorizer\n",
        "from keras.preprocessing.text import Tokenizer\n",
        "from keras.preprocessing.sequence import pad_sequences\n",
        "from keras.models import Sequential\n",
        "from keras.layers import Dense, Embedding, LSTM\n",
        "from sklearn.model_selection import train_test_split\n",
        "from keras.utils.np_utils import to_categorical\n",
        "import re"
      ],
      "execution_count": 1,
      "outputs": []
    },
    {
      "cell_type": "code",
      "metadata": {
        "colab": {
          "base_uri": "https://localhost:8080/"
        },
        "id": "Re61dYtrnW5j",
        "outputId": "cfe947d7-ee21-4bde-8f3b-adbc34d13ce0"
      },
      "source": [
        "pip install vaderSentiment"
      ],
      "execution_count": 2,
      "outputs": [
        {
          "output_type": "stream",
          "text": [
            "Collecting vaderSentiment\n",
            "\u001b[?25l  Downloading https://files.pythonhosted.org/packages/76/fc/310e16254683c1ed35eeb97386986d6c00bc29df17ce280aed64d55537e9/vaderSentiment-3.3.2-py2.py3-none-any.whl (125kB)\n",
            "\r\u001b[K     |██▋                             | 10kB 16.3MB/s eta 0:00:01\r\u001b[K     |█████▏                          | 20kB 21.5MB/s eta 0:00:01\r\u001b[K     |███████▉                        | 30kB 26.3MB/s eta 0:00:01\r\u001b[K     |██████████▍                     | 40kB 15.8MB/s eta 0:00:01\r\u001b[K     |█████████████                   | 51kB 8.8MB/s eta 0:00:01\r\u001b[K     |███████████████▋                | 61kB 6.8MB/s eta 0:00:01\r\u001b[K     |██████████████████▏             | 71kB 7.7MB/s eta 0:00:01\r\u001b[K     |████████████████████▉           | 81kB 8.3MB/s eta 0:00:01\r\u001b[K     |███████████████████████▍        | 92kB 8.5MB/s eta 0:00:01\r\u001b[K     |██████████████████████████      | 102kB 7.4MB/s eta 0:00:01\r\u001b[K     |████████████████████████████▋   | 112kB 7.4MB/s eta 0:00:01\r\u001b[K     |███████████████████████████████▏| 122kB 7.4MB/s eta 0:00:01\r\u001b[K     |████████████████████████████████| 133kB 7.4MB/s \n",
            "\u001b[?25hRequirement already satisfied: requests in /usr/local/lib/python3.7/dist-packages (from vaderSentiment) (2.23.0)\n",
            "Requirement already satisfied: urllib3!=1.25.0,!=1.25.1,<1.26,>=1.21.1 in /usr/local/lib/python3.7/dist-packages (from requests->vaderSentiment) (1.24.3)\n",
            "Requirement already satisfied: certifi>=2017.4.17 in /usr/local/lib/python3.7/dist-packages (from requests->vaderSentiment) (2020.12.5)\n",
            "Requirement already satisfied: idna<3,>=2.5 in /usr/local/lib/python3.7/dist-packages (from requests->vaderSentiment) (2.10)\n",
            "Requirement already satisfied: chardet<4,>=3.0.2 in /usr/local/lib/python3.7/dist-packages (from requests->vaderSentiment) (3.0.4)\n",
            "Installing collected packages: vaderSentiment\n",
            "Successfully installed vaderSentiment-3.3.2\n"
          ],
          "name": "stdout"
        }
      ]
    },
    {
      "cell_type": "code",
      "metadata": {
        "colab": {
          "base_uri": "https://localhost:8080/"
        },
        "id": "yfPq7sFGnLLr",
        "outputId": "eb60ea93-48c8-49ab-cf84-0029125e2223"
      },
      "source": [
        "from google.colab import drive\n",
        "drive.mount('/content/drive')"
      ],
      "execution_count": 3,
      "outputs": [
        {
          "output_type": "stream",
          "text": [
            "Mounted at /content/drive\n"
          ],
          "name": "stdout"
        }
      ]
    },
    {
      "cell_type": "code",
      "metadata": {
        "id": "xTxECoH7lfFn"
      },
      "source": [
        "#Vader\n",
        "import numpy as np\n",
        "import pandas as pd\n",
        "from vaderSentiment.vaderSentiment import SentimentIntensityAnalyzer as sia \n",
        "df = pd.read_csv('/content/drive/MyDrive/Project/Datasets/GrammarandProductReviews_1.csv')\n",
        "positivity=[]\n",
        "negativity=[]\n",
        "overall_sentiment=[]\n",
        "\n",
        "sid_obj=sia()\n",
        "\n",
        "for review in df[\"reviews\"]:\n",
        "  sentiment_dict = sid_obj.polarity_scores(review)\n",
        "  positivity.append(sentiment_dict['pos'])\n",
        "  negativity.append(sentiment_dict['neg'])\n",
        "  overall_sentiment.append('pos' if sentiment_dict['pos']> sentiment_dict['neg'] else 'neg' if sentiment_dict['pos']<sentiment_dict['neg'] else 'pos')\n",
        "\n",
        "df.insert(2,'Pos',positivity)\n",
        "df.insert(3,'Neg',negativity)\n",
        "df.insert(4,'Senti',overall_sentiment)"
      ],
      "execution_count": 4,
      "outputs": []
    },
    {
      "cell_type": "code",
      "metadata": {
        "id": "Ov-3NDAh0XRX"
      },
      "source": [
        "df['Review'] = df['reviews']"
      ],
      "execution_count": 5,
      "outputs": []
    },
    {
      "cell_type": "code",
      "metadata": {
        "id": "mm0xro-9lfFp"
      },
      "source": [
        "df['Review']= [x.lower() for x in df['Review']]\n",
        "df['Review'] = df['Review'].apply((lambda x: re.sub('[^a-zA-z0-9\\s]','',x)))"
      ],
      "execution_count": 6,
      "outputs": []
    },
    {
      "cell_type": "code",
      "metadata": {
        "id": "ulDM0WoxlfFu",
        "colab": {
          "base_uri": "https://localhost:8080/"
        },
        "outputId": "507898ad-8157-4758-ceed-f09e710c2bdd"
      },
      "source": [
        "tokenizer = Tokenizer(nb_words=2000, filters='!\"#$%&()*+,-./:;<=>?@[\\\\]^_`{|}~\\t\\n',\n",
        "                                   lower=True,split=' ')\n",
        "df = df.astype({\"Review\":str})\n",
        "tokenizer.fit_on_texts(df['Review'].values)"
      ],
      "execution_count": 8,
      "outputs": [
        {
          "output_type": "stream",
          "text": [
            "/usr/local/lib/python3.7/dist-packages/keras_preprocessing/text.py:180: UserWarning: The `nb_words` argument in `Tokenizer` has been renamed `num_words`.\n",
            "  warnings.warn('The `nb_words` argument in `Tokenizer` '\n"
          ],
          "name": "stderr"
        }
      ]
    },
    {
      "cell_type": "code",
      "metadata": {
        "id": "-RZGx49AlfFv"
      },
      "source": [
        "X = tokenizer.texts_to_sequences(df['Review'].values)\n",
        "X = pad_sequences(X)"
      ],
      "execution_count": 10,
      "outputs": []
    },
    {
      "cell_type": "code",
      "metadata": {
        "scrolled": false,
        "id": "dX_KtdM4lfFw",
        "colab": {
          "base_uri": "https://localhost:8080/"
        },
        "outputId": "4ec3457d-37f8-44fd-a267-7cf0c4aa0704"
      },
      "source": [
        "\n",
        "embed_dim = 128\n",
        "lstm_out = 196\n",
        "batch_size = 32\n",
        "\n",
        "model = Sequential()\n",
        "model.add(Embedding(2000, embed_dim,input_length = X.shape[1]))\n",
        "model.add(LSTM(lstm_out))\n",
        "model.add(Dense(2,activation='softmax'))\n",
        "model.compile(loss = 'categorical_crossentropy', optimizer='adam',metrics = ['accuracy'])\n",
        "print(model.summary())"
      ],
      "execution_count": 11,
      "outputs": [
        {
          "output_type": "stream",
          "text": [
            "Model: \"sequential_1\"\n",
            "_________________________________________________________________\n",
            "Layer (type)                 Output Shape              Param #   \n",
            "=================================================================\n",
            "embedding (Embedding)        (None, 854, 128)          256000    \n",
            "_________________________________________________________________\n",
            "lstm (LSTM)                  (None, 196)               254800    \n",
            "_________________________________________________________________\n",
            "dense (Dense)                (None, 2)                 394       \n",
            "=================================================================\n",
            "Total params: 511,194\n",
            "Trainable params: 511,194\n",
            "Non-trainable params: 0\n",
            "_________________________________________________________________\n",
            "None\n"
          ],
          "name": "stdout"
        }
      ]
    },
    {
      "cell_type": "code",
      "metadata": {
        "id": "Gn7Iv64dlfFy",
        "colab": {
          "base_uri": "https://localhost:8080/"
        },
        "outputId": "1a46d483-f69c-4876-94e2-8244882a0cfc"
      },
      "source": [
        "Y = pd.get_dummies(df['Senti']).values\n",
        "X_train, X_test, Y_train, Y_test = train_test_split(X,Y, test_size = 0.2, random_state = 42)\n",
        "print(X_train.shape,Y_train.shape)\n",
        "print(X_test.shape,Y_test.shape)"
      ],
      "execution_count": 12,
      "outputs": [
        {
          "output_type": "stream",
          "text": [
            "(18396, 854) (18396, 2)\n",
            "(4600, 854) (4600, 2)\n"
          ],
          "name": "stdout"
        }
      ]
    },
    {
      "cell_type": "code",
      "metadata": {
        "scrolled": false,
        "id": "q4YhZhVblfFz",
        "colab": {
          "base_uri": "https://localhost:8080/"
        },
        "outputId": "65fa7b87-cb9b-4f13-c18e-0550dc6572a1"
      },
      "source": [
        "model.fit(X_train, Y_train, batch_size = batch_size, verbose =2 )"
      ],
      "execution_count": 13,
      "outputs": [
        {
          "output_type": "stream",
          "text": [
            "575/575 - 1266s - loss: 0.2135 - accuracy: 0.9329\n"
          ],
          "name": "stdout"
        },
        {
          "output_type": "execute_result",
          "data": {
            "text/plain": [
              "<keras.callbacks.History at 0x7f257f92a250>"
            ]
          },
          "metadata": {
            "tags": []
          },
          "execution_count": 13
        }
      ]
    },
    {
      "cell_type": "code",
      "metadata": {
        "scrolled": true,
        "id": "LjhqmEwnlfF0",
        "colab": {
          "base_uri": "https://localhost:8080/"
        },
        "outputId": "ee421550-b01a-4eb9-c691-47a02c20d70d"
      },
      "source": [
        "score,acc = model.evaluate(X_test, Y_test, verbose = 2, batch_size = batch_size)\n",
        "print(\"Score: %.2f\" % (score))\n",
        "print(\"Validation Accuracy: %.2f\" % (acc))"
      ],
      "execution_count": 14,
      "outputs": [
        {
          "output_type": "stream",
          "text": [
            "144/144 - 84s - loss: 0.1633 - accuracy: 0.9398\n",
            "Score: 0.16\n",
            "Validation Accuracy: 0.94\n"
          ],
          "name": "stdout"
        }
      ]
    }
  ]
}